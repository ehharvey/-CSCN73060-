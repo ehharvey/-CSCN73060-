{
 "cells": [
  {
   "cell_type": "code",
   "execution_count": 7,
   "metadata": {},
   "outputs": [],
   "source": [
    "WORKLOADS = {\n",
    "    1: \"CLIENT_FILE_READ\",\n",
    "    2: \"CLIENT_ROUND_TRIP\",\n",
    "    3: \"SERVER_DETERMINE_CATEGORY\",\n",
    "    4: \"SERVER_UPDATE_VALUE\",\n",
    "    5: \"SERVER_CALCULATE_AVERAGE\"\n",
    "}"
   ]
  },
  {
   "cell_type": "code",
   "execution_count": 11,
   "metadata": {},
   "outputs": [
    {
     "ename": "TypeError",
     "evalue": "unsupported operand type(s) for +: 'PosixPath' and 'PosixPath'",
     "output_type": "error",
     "traceback": [
      "\u001b[0;31m---------------------------------------------------------------------------\u001b[0m",
      "\u001b[0;31mTypeError\u001b[0m                                 Traceback (most recent call last)",
      "Cell \u001b[0;32mIn[11], line 22\u001b[0m\n\u001b[1;32m     10\u001b[0m folder_name \u001b[39m=\u001b[39m Path(\u001b[39m\"\u001b[39m\u001b[39m2023-01-29 18.40.40.6079467\u001b[39m\u001b[39m\"\u001b[39m)\n\u001b[1;32m     14\u001b[0m data \u001b[39m=\u001b[39m [\n\u001b[1;32m     15\u001b[0m     {\n\u001b[1;32m     16\u001b[0m         \u001b[39m\"\u001b[39m\u001b[39mWorkload\u001b[39m\u001b[39m\"\u001b[39m: WORKLOADS[file[\u001b[39m\"\u001b[39m\u001b[39mid\u001b[39m\u001b[39m\"\u001b[39m]],\n\u001b[0;32m   (...)\u001b[0m\n\u001b[1;32m     19\u001b[0m     \u001b[39mfor\u001b[39;00m file \u001b[39min\u001b[39;00m get_jsons(folder_name)\n\u001b[1;32m     20\u001b[0m ]\n\u001b[0;32m---> 22\u001b[0m pandas\u001b[39m.\u001b[39mDataFrame(data\u001b[39m=\u001b[39mdata, columns\u001b[39m=\u001b[39m[\u001b[39m\"\u001b[39m\u001b[39mWorkload\u001b[39m\u001b[39m\"\u001b[39m, \u001b[39m\"\u001b[39m\u001b[39mLatency Measurement\u001b[39m\u001b[39m\"\u001b[39m])\u001b[39m.\u001b[39mto_csv(folder_name \u001b[39m+\u001b[39;49m Path(\u001b[39m\"\u001b[39;49m\u001b[39m.csv\u001b[39;49m\u001b[39m\"\u001b[39;49m))\n",
      "\u001b[0;31mTypeError\u001b[0m: unsupported operand type(s) for +: 'PosixPath' and 'PosixPath'"
     ]
    }
   ],
   "source": [
    "import pandas\n",
    "from pathlib import Path\n",
    "import json\n",
    "\n",
    "def get_jsons(p: Path):\n",
    "    for f in p.glob(\"*/*.json\"):\n",
    "        with f.open(\"r\") as o:\n",
    "            yield json.load(o)\n",
    "\n",
    "folder_name = Path(\"2023-01-29 18.40.40.6079467\")\n",
    "\n",
    "\n",
    "\n",
    "data = [\n",
    "    {\n",
    "        \"Workload\": WORKLOADS[file[\"id\"]],\n",
    "        \"Latency Measurement\": file[\"latency\"]\n",
    "    }\n",
    "    for file in get_jsons(folder_name)\n",
    "]\n",
    "\n",
    "pandas.DataFrame(data=data, columns=[\"Workload\", \"Latency Measurement\"]).to_csv(folder_name.with_suffix(\".csv\"))\n"
   ]
  }
 ],
 "metadata": {
  "kernelspec": {
   "display_name": ".venv",
   "language": "python",
   "name": "python3"
  },
  "language_info": {
   "codemirror_mode": {
    "name": "ipython",
    "version": 3
   },
   "file_extension": ".py",
   "mimetype": "text/x-python",
   "name": "python",
   "nbconvert_exporter": "python",
   "pygments_lexer": "ipython3",
   "version": "3.10.6"
  },
  "orig_nbformat": 4,
  "vscode": {
   "interpreter": {
    "hash": "8211df0de98fc765e64d79a49a6291000cb3c71ac855e588e368e2ccdea74fc8"
   }
  }
 },
 "nbformat": 4,
 "nbformat_minor": 2
}
